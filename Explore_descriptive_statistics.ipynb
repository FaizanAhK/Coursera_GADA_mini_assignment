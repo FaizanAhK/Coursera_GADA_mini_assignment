{
 "cells": [
  {
   "cell_type": "markdown",
   "id": "ec55c007-ea7b-4b2f-be28-6318789efd22",
   "metadata": {},
   "source": [
    "You are a member of an analytics team for the United States Environmental Protection Agency (EPA). You are assigned to analyze data on air quality with respect to carbon monoxide, a major air pollutant. The data includes information from more than 200 sites, identified by state, county, city, and local site names. You work is to gather statistics about air quality, then share insights with stakeholders."
   ]
  },
  {
   "cell_type": "code",
   "execution_count": 4,
   "id": "81bc9530-6f6e-454c-95d5-aa39a6f14d5c",
   "metadata": {},
   "outputs": [],
   "source": [
    "# Import relevant Python libraries.\n",
    "\n",
    "import pandas as pd\n",
    "import numpy as np"
   ]
  },
  {
   "cell_type": "markdown",
   "id": "3d889612-a5a4-4965-aec3-dc94390ee0e8",
   "metadata": {},
   "source": [
    "Load the dataset into a DataFrame. The dataset provided is in the form of a .csv file named c4_epa_air_quality.csv. It contains a subset of data from the U.S. EPA."
   ]
  },
  {
   "cell_type": "code",
   "execution_count": 6,
   "id": "b4489823-09c7-48ee-920e-62285d1a4778",
   "metadata": {},
   "outputs": [],
   "source": [
    "# IMPORTING THE DATA.\n",
    "\n",
    "epa_data = pd.read_csv(\"c4_epa_air_quality.csv\", index_col = 0)"
   ]
  },
  {
   "cell_type": "markdown",
   "id": "dc62e7ae-735e-4cd5-af75-47a72afff1ad",
   "metadata": {},
   "source": [
    "# Data Exploration"
   ]
  },
  {
   "cell_type": "code",
   "execution_count": 10,
   "id": "dd7d2156-d9c4-4a91-832a-33c3a4dc1b67",
   "metadata": {},
   "outputs": [
    {
     "data": {
      "text/html": [
       "<div>\n",
       "<style scoped>\n",
       "    .dataframe tbody tr th:only-of-type {\n",
       "        vertical-align: middle;\n",
       "    }\n",
       "\n",
       "    .dataframe tbody tr th {\n",
       "        vertical-align: top;\n",
       "    }\n",
       "\n",
       "    .dataframe thead th {\n",
       "        text-align: right;\n",
       "    }\n",
       "</style>\n",
       "<table border=\"1\" class=\"dataframe\">\n",
       "  <thead>\n",
       "    <tr style=\"text-align: right;\">\n",
       "      <th></th>\n",
       "      <th>date_local</th>\n",
       "      <th>state_name</th>\n",
       "      <th>county_name</th>\n",
       "      <th>city_name</th>\n",
       "      <th>local_site_name</th>\n",
       "      <th>parameter_name</th>\n",
       "      <th>units_of_measure</th>\n",
       "      <th>arithmetic_mean</th>\n",
       "      <th>aqi</th>\n",
       "    </tr>\n",
       "  </thead>\n",
       "  <tbody>\n",
       "    <tr>\n",
       "      <th>0</th>\n",
       "      <td>2018-01-01</td>\n",
       "      <td>Arizona</td>\n",
       "      <td>Maricopa</td>\n",
       "      <td>Buckeye</td>\n",
       "      <td>BUCKEYE</td>\n",
       "      <td>Carbon monoxide</td>\n",
       "      <td>Parts per million</td>\n",
       "      <td>0.473684</td>\n",
       "      <td>7</td>\n",
       "    </tr>\n",
       "    <tr>\n",
       "      <th>1</th>\n",
       "      <td>2018-01-01</td>\n",
       "      <td>Ohio</td>\n",
       "      <td>Belmont</td>\n",
       "      <td>Shadyside</td>\n",
       "      <td>Shadyside</td>\n",
       "      <td>Carbon monoxide</td>\n",
       "      <td>Parts per million</td>\n",
       "      <td>0.263158</td>\n",
       "      <td>5</td>\n",
       "    </tr>\n",
       "    <tr>\n",
       "      <th>2</th>\n",
       "      <td>2018-01-01</td>\n",
       "      <td>Wyoming</td>\n",
       "      <td>Teton</td>\n",
       "      <td>Not in a city</td>\n",
       "      <td>Yellowstone National Park - Old Faithful Snow ...</td>\n",
       "      <td>Carbon monoxide</td>\n",
       "      <td>Parts per million</td>\n",
       "      <td>0.111111</td>\n",
       "      <td>2</td>\n",
       "    </tr>\n",
       "    <tr>\n",
       "      <th>3</th>\n",
       "      <td>2018-01-01</td>\n",
       "      <td>Pennsylvania</td>\n",
       "      <td>Philadelphia</td>\n",
       "      <td>Philadelphia</td>\n",
       "      <td>North East Waste (NEW)</td>\n",
       "      <td>Carbon monoxide</td>\n",
       "      <td>Parts per million</td>\n",
       "      <td>0.300000</td>\n",
       "      <td>3</td>\n",
       "    </tr>\n",
       "    <tr>\n",
       "      <th>4</th>\n",
       "      <td>2018-01-01</td>\n",
       "      <td>Iowa</td>\n",
       "      <td>Polk</td>\n",
       "      <td>Des Moines</td>\n",
       "      <td>CARPENTER</td>\n",
       "      <td>Carbon monoxide</td>\n",
       "      <td>Parts per million</td>\n",
       "      <td>0.215789</td>\n",
       "      <td>3</td>\n",
       "    </tr>\n",
       "    <tr>\n",
       "      <th>5</th>\n",
       "      <td>2018-01-01</td>\n",
       "      <td>Hawaii</td>\n",
       "      <td>Honolulu</td>\n",
       "      <td>Not in a city</td>\n",
       "      <td>Kapolei</td>\n",
       "      <td>Carbon monoxide</td>\n",
       "      <td>Parts per million</td>\n",
       "      <td>0.994737</td>\n",
       "      <td>14</td>\n",
       "    </tr>\n",
       "    <tr>\n",
       "      <th>6</th>\n",
       "      <td>2018-01-01</td>\n",
       "      <td>Hawaii</td>\n",
       "      <td>Honolulu</td>\n",
       "      <td>Not in a city</td>\n",
       "      <td>Kapolei</td>\n",
       "      <td>Carbon monoxide</td>\n",
       "      <td>Parts per million</td>\n",
       "      <td>0.200000</td>\n",
       "      <td>2</td>\n",
       "    </tr>\n",
       "    <tr>\n",
       "      <th>7</th>\n",
       "      <td>2018-01-01</td>\n",
       "      <td>Pennsylvania</td>\n",
       "      <td>Erie</td>\n",
       "      <td>Erie</td>\n",
       "      <td>NaN</td>\n",
       "      <td>Carbon monoxide</td>\n",
       "      <td>Parts per million</td>\n",
       "      <td>0.200000</td>\n",
       "      <td>2</td>\n",
       "    </tr>\n",
       "    <tr>\n",
       "      <th>8</th>\n",
       "      <td>2018-01-01</td>\n",
       "      <td>Hawaii</td>\n",
       "      <td>Honolulu</td>\n",
       "      <td>Honolulu</td>\n",
       "      <td>Honolulu</td>\n",
       "      <td>Carbon monoxide</td>\n",
       "      <td>Parts per million</td>\n",
       "      <td>0.400000</td>\n",
       "      <td>5</td>\n",
       "    </tr>\n",
       "    <tr>\n",
       "      <th>9</th>\n",
       "      <td>2018-01-01</td>\n",
       "      <td>Colorado</td>\n",
       "      <td>Larimer</td>\n",
       "      <td>Fort Collins</td>\n",
       "      <td>Fort Collins - CSU - S. Mason</td>\n",
       "      <td>Carbon monoxide</td>\n",
       "      <td>Parts per million</td>\n",
       "      <td>0.300000</td>\n",
       "      <td>6</td>\n",
       "    </tr>\n",
       "  </tbody>\n",
       "</table>\n",
       "</div>"
      ],
      "text/plain": [
       "   date_local    state_name   county_name      city_name  \\\n",
       "0  2018-01-01       Arizona      Maricopa        Buckeye   \n",
       "1  2018-01-01          Ohio       Belmont      Shadyside   \n",
       "2  2018-01-01       Wyoming         Teton  Not in a city   \n",
       "3  2018-01-01  Pennsylvania  Philadelphia   Philadelphia   \n",
       "4  2018-01-01          Iowa          Polk     Des Moines   \n",
       "5  2018-01-01        Hawaii      Honolulu  Not in a city   \n",
       "6  2018-01-01        Hawaii      Honolulu  Not in a city   \n",
       "7  2018-01-01  Pennsylvania          Erie           Erie   \n",
       "8  2018-01-01        Hawaii      Honolulu       Honolulu   \n",
       "9  2018-01-01      Colorado       Larimer   Fort Collins   \n",
       "\n",
       "                                     local_site_name   parameter_name  \\\n",
       "0                                            BUCKEYE  Carbon monoxide   \n",
       "1                                          Shadyside  Carbon monoxide   \n",
       "2  Yellowstone National Park - Old Faithful Snow ...  Carbon monoxide   \n",
       "3                             North East Waste (NEW)  Carbon monoxide   \n",
       "4                                          CARPENTER  Carbon monoxide   \n",
       "5                                            Kapolei  Carbon monoxide   \n",
       "6                                            Kapolei  Carbon monoxide   \n",
       "7                                                NaN  Carbon monoxide   \n",
       "8                                           Honolulu  Carbon monoxide   \n",
       "9                      Fort Collins - CSU - S. Mason  Carbon monoxide   \n",
       "\n",
       "    units_of_measure  arithmetic_mean  aqi  \n",
       "0  Parts per million         0.473684    7  \n",
       "1  Parts per million         0.263158    5  \n",
       "2  Parts per million         0.111111    2  \n",
       "3  Parts per million         0.300000    3  \n",
       "4  Parts per million         0.215789    3  \n",
       "5  Parts per million         0.994737   14  \n",
       "6  Parts per million         0.200000    2  \n",
       "7  Parts per million         0.200000    2  \n",
       "8  Parts per million         0.400000    5  \n",
       "9  Parts per million         0.300000    6  "
      ]
     },
     "execution_count": 10,
     "metadata": {},
     "output_type": "execute_result"
    }
   ],
   "source": [
    "# Display first 10 rows of the data.\n",
    "\n",
    "epa_data.head(10)\n"
   ]
  },
  {
   "cell_type": "markdown",
   "id": "b4eecfad-4688-4332-a5ce-acd48bf65b18",
   "metadata": {},
   "source": [
    "Question: What does the aqi column represent?\n",
    "\n",
    "The aqi column represents the EPA's Air Quality Index (AQI)."
   ]
  },
  {
   "cell_type": "markdown",
   "id": "2d0ba414-7455-4d9c-89c0-267b9b4dfc25",
   "metadata": {},
   "source": [
    "### Get a table that contains some descriptive statistics about the data."
   ]
  },
  {
   "cell_type": "code",
   "execution_count": 18,
   "id": "18632663-57ab-4d4e-be1f-2a6e8983a8a2",
   "metadata": {},
   "outputs": [
    {
     "data": {
      "text/html": [
       "<div>\n",
       "<style scoped>\n",
       "    .dataframe tbody tr th:only-of-type {\n",
       "        vertical-align: middle;\n",
       "    }\n",
       "\n",
       "    .dataframe tbody tr th {\n",
       "        vertical-align: top;\n",
       "    }\n",
       "\n",
       "    .dataframe thead th {\n",
       "        text-align: right;\n",
       "    }\n",
       "</style>\n",
       "<table border=\"1\" class=\"dataframe\">\n",
       "  <thead>\n",
       "    <tr style=\"text-align: right;\">\n",
       "      <th></th>\n",
       "      <th>arithmetic_mean</th>\n",
       "      <th>aqi</th>\n",
       "    </tr>\n",
       "  </thead>\n",
       "  <tbody>\n",
       "    <tr>\n",
       "      <th>count</th>\n",
       "      <td>260.000000</td>\n",
       "      <td>260.000000</td>\n",
       "    </tr>\n",
       "    <tr>\n",
       "      <th>mean</th>\n",
       "      <td>0.403169</td>\n",
       "      <td>6.757692</td>\n",
       "    </tr>\n",
       "    <tr>\n",
       "      <th>std</th>\n",
       "      <td>0.317902</td>\n",
       "      <td>7.061707</td>\n",
       "    </tr>\n",
       "    <tr>\n",
       "      <th>min</th>\n",
       "      <td>0.000000</td>\n",
       "      <td>0.000000</td>\n",
       "    </tr>\n",
       "    <tr>\n",
       "      <th>25%</th>\n",
       "      <td>0.200000</td>\n",
       "      <td>2.000000</td>\n",
       "    </tr>\n",
       "    <tr>\n",
       "      <th>50%</th>\n",
       "      <td>0.276315</td>\n",
       "      <td>5.000000</td>\n",
       "    </tr>\n",
       "    <tr>\n",
       "      <th>75%</th>\n",
       "      <td>0.516009</td>\n",
       "      <td>9.000000</td>\n",
       "    </tr>\n",
       "    <tr>\n",
       "      <th>max</th>\n",
       "      <td>1.921053</td>\n",
       "      <td>50.000000</td>\n",
       "    </tr>\n",
       "  </tbody>\n",
       "</table>\n",
       "</div>"
      ],
      "text/plain": [
       "       arithmetic_mean         aqi\n",
       "count       260.000000  260.000000\n",
       "mean          0.403169    6.757692\n",
       "std           0.317902    7.061707\n",
       "min           0.000000    0.000000\n",
       "25%           0.200000    2.000000\n",
       "50%           0.276315    5.000000\n",
       "75%           0.516009    9.000000\n",
       "max           1.921053   50.000000"
      ]
     },
     "execution_count": 18,
     "metadata": {},
     "output_type": "execute_result"
    }
   ],
   "source": [
    "# Get descriptive stats.\n",
    "\n",
    "epa_data.describe()"
   ]
  },
  {
   "cell_type": "markdown",
   "id": "a5a0b5f0-a4b6-4d49-8a62-f69f87aa2272",
   "metadata": {},
   "source": [
    "Question: Based on the table of descriptive statistics, what do you notice about the count value for the aqi column?\n",
    "\n",
    "The count value for the aqi column is 260. This means there are 260 aqi measurements represented in this dataset."
   ]
  },
  {
   "cell_type": "markdown",
   "id": "81ab969e-cc2a-46b8-8dff-9d7c92b9ce92",
   "metadata": {},
   "source": [
    "Question: What do you notice about the 25th percentile for the aqi column? This is an important measure for understanding where the aqi values lie.\n",
    "\n",
    "The 25th percentile for the aqi column is 2. This means that 25% of the aqi values in the data are below 2."
   ]
  },
  {
   "cell_type": "markdown",
   "id": "d512498d-8ff8-422b-b7bc-14903cd0b40e",
   "metadata": {},
   "source": [
    "Question: What do you notice about the 75th percentile for the aqi column? This is another important measure for understanding where the aqi values lie.\n",
    "\n",
    "The 75th percentile for the aqi column is 9. This means that 75% of the aqi values in the data are below 9."
   ]
  },
  {
   "cell_type": "markdown",
   "id": "8aa158ca-0bda-4c2e-9051-5bd64de5f19e",
   "metadata": {},
   "source": [
    "# Statistical Test"
   ]
  },
  {
   "cell_type": "markdown",
   "id": "0dd43f57-5cc6-4c71-8129-ac21045b20c6",
   "metadata": {},
   "source": [
    "### Next, get some descriptive statistics about the states in the data."
   ]
  },
  {
   "cell_type": "code",
   "execution_count": 25,
   "id": "0543b328-52c1-448b-a9b6-ebf946272ec0",
   "metadata": {},
   "outputs": [
    {
     "data": {
      "text/plain": [
       "count            260\n",
       "unique            52\n",
       "top       California\n",
       "freq              66\n",
       "Name: state_name, dtype: object"
      ]
     },
     "execution_count": 25,
     "metadata": {},
     "output_type": "execute_result"
    }
   ],
   "source": [
    "# Get descriptive stats about the states in the data.\n",
    "\n",
    "epa_data[\"state_name\"].describe()"
   ]
  },
  {
   "cell_type": "markdown",
   "id": "8d63b0bf-c848-4122-8254-3a0565ef9e11",
   "metadata": {},
   "source": [
    "Question: What do you notice while reviewing the descriptive statistics about the states in the data? \n",
    "\n",
    "There are 260 state values, and 52 of them are unique. California is the most commonly occurring state in the data, with a frequency of 66. (In other words, 66 entries in the data correspond to aqi measurements taken in California.)"
   ]
  },
  {
   "cell_type": "markdown",
   "id": "afc006bb-9182-455d-87bb-1fd6371229ed",
   "metadata": {},
   "source": [
    "# Results and Evaluation"
   ]
  },
  {
   "cell_type": "markdown",
   "id": "ee9907d1-91c8-4cbb-8a30-600a8722c6fd",
   "metadata": {},
   "source": [
    "Now, compute the mean value from the aqi column."
   ]
  },
  {
   "cell_type": "code",
   "execution_count": 33,
   "id": "6d9ff39a-37fd-43d9-90f8-172c01c2ada6",
   "metadata": {},
   "outputs": [
    {
     "data": {
      "text/plain": [
       "6.757692307692308"
      ]
     },
     "execution_count": 33,
     "metadata": {},
     "output_type": "execute_result"
    }
   ],
   "source": [
    "# Compute the mean value from the aqi column.\n",
    "\n",
    "np.mean(epa_data[\"aqi\"])"
   ]
  },
  {
   "cell_type": "markdown",
   "id": "6bb9463a-a665-48b0-b3b2-b6f1124c1e07",
   "metadata": {},
   "source": [
    "Question: What do you notice about the mean value from the aqi column?\n",
    "\n",
    "The mean value for the aqi column is approximately 6.76 (rounding to 2 decimal places here). This means that the average aqi from the data is approximately 6.76."
   ]
  },
  {
   "cell_type": "markdown",
   "id": "1e67c53e-c6bb-4d0b-9c39-fc610580d7a6",
   "metadata": {},
   "source": [
    "### Next, compute the median value from the aqi column."
   ]
  },
  {
   "cell_type": "code",
   "execution_count": 38,
   "id": "3918f933-a95e-4651-aa94-76ce3c772c95",
   "metadata": {},
   "outputs": [
    {
     "data": {
      "text/plain": [
       "5.0"
      ]
     },
     "execution_count": 38,
     "metadata": {},
     "output_type": "execute_result"
    }
   ],
   "source": [
    "# Compute the median value from the aqi column.\n",
    "\n",
    "np.median(epa_data[\"aqi\"])"
   ]
  },
  {
   "cell_type": "markdown",
   "id": "421d9ca5-d1bc-4a6c-93d9-6466d50ad515",
   "metadata": {},
   "source": [
    "\n",
    "Question: What do you notice about the median value from the aqi column? \n",
    "\n",
    "The median value for the aqi column is 5.0. This means that half of the aqi values in the data are below 5."
   ]
  },
  {
   "cell_type": "markdown",
   "id": "5e59cacf-7388-4e18-a8c4-543a6cbc5261",
   "metadata": {},
   "source": [
    "### Next, identify the minimum value from the aqi column."
   ]
  },
  {
   "cell_type": "code",
   "execution_count": 43,
   "id": "18bfc8b7-b1eb-42b3-abb0-50eff34c72ea",
   "metadata": {},
   "outputs": [
    {
     "data": {
      "text/plain": [
       "0"
      ]
     },
     "execution_count": 43,
     "metadata": {},
     "output_type": "execute_result"
    }
   ],
   "source": [
    "# Identify the minimum value from the aqi column.\n",
    "np.min(epa_data[\"aqi\"])"
   ]
  },
  {
   "cell_type": "markdown",
   "id": "79d532fd-fe7c-4149-bc5f-b2ca33bcb24c",
   "metadata": {},
   "source": [
    "Question: What do you notice about the minimum value from the aqi column?\n",
    "\n",
    "The minimum value for the aqi column is 0. This means that the smallest aqi value in the data is 0."
   ]
  },
  {
   "cell_type": "markdown",
   "id": "48c5b30b-e493-4d2f-990e-86d8c941bd8b",
   "metadata": {},
   "source": [
    "### Now, identify the maximum value from the aqi column."
   ]
  },
  {
   "cell_type": "code",
   "execution_count": 47,
   "id": "9507c44e-ef6c-4a47-b634-f271d7248f64",
   "metadata": {},
   "outputs": [
    {
     "data": {
      "text/plain": [
       "50"
      ]
     },
     "execution_count": 47,
     "metadata": {},
     "output_type": "execute_result"
    }
   ],
   "source": [
    "# Identify the maximum value from the aqi column.\n",
    "\n",
    "np.max(epa_data[\"aqi\"])"
   ]
  },
  {
   "cell_type": "markdown",
   "id": "d1674174-4c47-4079-9789-5059042dd7a6",
   "metadata": {},
   "source": [
    "**Question:** What do you notice about the maximum value from the `aqi` column?\n",
    "This is an important measure, as it tells you which value in the data corresponds to the worst air quality observed in the data.\n",
    "\n",
    "The maximum value for the `aqi` column is 50. This means that the largest aqi value in the data is 50."
   ]
  },
  {
   "cell_type": "markdown",
   "id": "7984d80e-f9bb-418e-b002-abf7468d3419",
   "metadata": {},
   "source": [
    "### Now, compute the standard deviation for the aqi column."
   ]
  },
  {
   "cell_type": "code",
   "execution_count": 51,
   "id": "802a2840-9b0e-4dcf-9470-cde92ffb7971",
   "metadata": {},
   "outputs": [
    {
     "data": {
      "text/plain": [
       "7.0617066788207215"
      ]
     },
     "execution_count": 51,
     "metadata": {},
     "output_type": "execute_result"
    }
   ],
   "source": [
    "# Compute the standard deviation for the aqi column.\n",
    "\n",
    "np.std(epa_data[\"aqi\"], ddof=1)"
   ]
  },
  {
   "cell_type": "markdown",
   "id": "33448727-9737-4ead-ad26-5f7a40d516b4",
   "metadata": {},
   "source": [
    "**Question:** What do you notice about the standard deviation for the `aqi` column? \n",
    "This is an important measure of how spread out the aqi values are.\n",
    "\n",
    "\n",
    "The standard deviation for the aqi column is approximately 7.05 (rounding to 2 decimal places here). This is a measure of how spread out the aqi values are in the data."
   ]
  },
  {
   "cell_type": "markdown",
   "id": "6260fd9d-fc60-4d1d-ad0f-066504899c53",
   "metadata": {},
   "source": [
    "## **Considerations**\n",
    "\n",
    "**Some key takeaways that I learned during this lab?**\n",
    "\n",
    "Functions in the `pandas` and `numpy` libraries can be used to find statistics that describe a dataset. The `describe()` function from `pandas` generates a table of descriptive statistics about numerical or categorical columns. The `mean()`, `median()`, `min()`, `max()`, and `std()` functions from `numpy` are useful for finding individual statistics about numerical data.\n",
    "\n",
    "**How would I present my findings to others? Considering the following relevant points noted by AirNow.gov as I respond:**\n",
    "\r\n",
    "- \"AQI values at or below 100 are generally thought of as satisfactory. When AQI values are above 100, air quality is considered to be unhealthy—at first for certain sensitive groups of people, then for everyone as AQI values increase.\"\r\n",
    "- \"An AQI of 100 for carbon monoxide corresponds to a level of 9.4 parts per million.\"\r\n",
    "\r\n",
    "The average AQI value in the data is approximately 6.76, which is considered safe with respect to carbon monoxide. Further, 75% of the AQI values are below 9. \r\n",
    "\r\n",
    "**What summary Ild you provide to stakehospond.**\r\n",
    "\r\n",
    "- 75% of the AQI values in the data are below 9, which is considered good air quality. \r\n",
    "- Funding should be allocated for further investigation of the less healthy regions in order to learn how to improve the conditions.\r\n"
   ]
  },
  {
   "cell_type": "code",
   "execution_count": null,
   "id": "5efea399-c7ee-4ee5-b067-570d2637fd51",
   "metadata": {},
   "outputs": [],
   "source": []
  }
 ],
 "metadata": {
  "kernelspec": {
   "display_name": "Python 3 (ipykernel)",
   "language": "python",
   "name": "python3"
  },
  "language_info": {
   "codemirror_mode": {
    "name": "ipython",
    "version": 3
   },
   "file_extension": ".py",
   "mimetype": "text/x-python",
   "name": "python",
   "nbconvert_exporter": "python",
   "pygments_lexer": "ipython3",
   "version": "3.12.4"
  }
 },
 "nbformat": 4,
 "nbformat_minor": 5
}

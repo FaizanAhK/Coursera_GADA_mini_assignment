{
 "cells": [
  {
   "cell_type": "markdown",
   "id": "d1872147",
   "metadata": {
    "id": "9HYKQFUbTX8V"
   },
   "source": [
    "# Exploring sampling"
   ]
  },
  {
   "cell_type": "markdown",
   "id": "937db121",
   "metadata": {
    "id": "ee31943b-274e-4c28-bce6-155cb6f4c334"
   },
   "source": [
    "\n",
    "This activity will engage us in an effective sampling of a dataset in order to make it easier to analyze. As a data professional we will often work with extremely large datasets, and utilizing those proper sampling techniques helps us improve our efficiency in this work. \n",
    "\n",
    "For this activity, We are a member of an analytics team for the Environmental Protection Agency. We are assigned to analyze data on air quality with respect to carbon monoxide—a major air pollutant—and report our findings. The data utilized in this activity includes information from over 200 sites, identified by their state name, county name, city name, and local site name. We will use effective sampling within this dataset. "
   ]
  },
  {
   "cell_type": "markdown",
   "id": "bee38227",
   "metadata": {
    "id": "4bb9630e-b940-4835-a389-d39def1fa848"
   },
   "source": [
    "## Step 1: Imports"
   ]
  },
  {
   "cell_type": "markdown",
   "id": "24b12af7",
   "metadata": {
    "id": "bc180686-4ae2-47ea-a292-3588ac60a820"
   },
   "source": [
    "### Import packages "
   ]
  },
  {
   "cell_type": "code",
   "execution_count": 4,
   "id": "431a26f7",
   "metadata": {
    "id": "8e7f1f2c-bbcc-4f3c-b927-b090ee8334c4"
   },
   "outputs": [],
   "source": [
    "# Importing libraries and packages\n",
    "\n",
    "import numpy as np\n",
    "import pandas as pd\n",
    "import matplotlib.pyplot as plt\n",
    "import statsmodels.api as sm\n",
    "from scipy import stats"
   ]
  },
  {
   "cell_type": "markdown",
   "id": "a4061f39",
   "metadata": {
    "id": "7d29c6bd-f194-46bb-b794-56dc20130473"
   },
   "source": [
    "### Loading the dataset"
   ]
  },
  {
   "cell_type": "code",
   "execution_count": 7,
   "id": "e74abab2",
   "metadata": {
    "id": "3bd40d44-080f-4e49-b0c2-160dedc3c4df"
   },
   "outputs": [],
   "source": [
    "# Loading data\n",
    "\n",
    "epa_data = pd.read_csv(\"c4_epa_air_quality.csv\", index_col = 0)"
   ]
  },
  {
   "cell_type": "markdown",
   "id": "21f2aa1a",
   "metadata": {
    "id": "95bf39c9-d05c-4324-a40b-bc692607b61b"
   },
   "source": [
    "## Step 2: Data exploration"
   ]
  },
  {
   "cell_type": "markdown",
   "id": "d236195f",
   "metadata": {
    "id": "26561614-8e9b-4840-8dbf-b50131ae5314",
    "tags": []
   },
   "source": [
    "### Examining the data\n"
   ]
  },
  {
   "cell_type": "code",
   "execution_count": 11,
   "id": "18bae522",
   "metadata": {
    "id": "ad5210a5-7a64-4991-b004-de818cfaf506",
    "outputId": "fa46ae65-a657-46b4-d805-0eaee78ea723"
   },
   "outputs": [
    {
     "data": {
      "text/html": [
       "<div>\n",
       "<style scoped>\n",
       "    .dataframe tbody tr th:only-of-type {\n",
       "        vertical-align: middle;\n",
       "    }\n",
       "\n",
       "    .dataframe tbody tr th {\n",
       "        vertical-align: top;\n",
       "    }\n",
       "\n",
       "    .dataframe thead th {\n",
       "        text-align: right;\n",
       "    }\n",
       "</style>\n",
       "<table border=\"1\" class=\"dataframe\">\n",
       "  <thead>\n",
       "    <tr style=\"text-align: right;\">\n",
       "      <th></th>\n",
       "      <th>date_local</th>\n",
       "      <th>state_name</th>\n",
       "      <th>county_name</th>\n",
       "      <th>city_name</th>\n",
       "      <th>local_site_name</th>\n",
       "      <th>parameter_name</th>\n",
       "      <th>units_of_measure</th>\n",
       "      <th>arithmetic_mean</th>\n",
       "      <th>aqi</th>\n",
       "    </tr>\n",
       "  </thead>\n",
       "  <tbody>\n",
       "    <tr>\n",
       "      <th>0</th>\n",
       "      <td>2018-01-01</td>\n",
       "      <td>Arizona</td>\n",
       "      <td>Maricopa</td>\n",
       "      <td>Buckeye</td>\n",
       "      <td>BUCKEYE</td>\n",
       "      <td>Carbon monoxide</td>\n",
       "      <td>Parts per million</td>\n",
       "      <td>0.473684</td>\n",
       "      <td>7</td>\n",
       "    </tr>\n",
       "    <tr>\n",
       "      <th>1</th>\n",
       "      <td>2018-01-01</td>\n",
       "      <td>Ohio</td>\n",
       "      <td>Belmont</td>\n",
       "      <td>Shadyside</td>\n",
       "      <td>Shadyside</td>\n",
       "      <td>Carbon monoxide</td>\n",
       "      <td>Parts per million</td>\n",
       "      <td>0.263158</td>\n",
       "      <td>5</td>\n",
       "    </tr>\n",
       "    <tr>\n",
       "      <th>2</th>\n",
       "      <td>2018-01-01</td>\n",
       "      <td>Wyoming</td>\n",
       "      <td>Teton</td>\n",
       "      <td>Not in a city</td>\n",
       "      <td>Yellowstone National Park - Old Faithful Snow ...</td>\n",
       "      <td>Carbon monoxide</td>\n",
       "      <td>Parts per million</td>\n",
       "      <td>0.111111</td>\n",
       "      <td>2</td>\n",
       "    </tr>\n",
       "    <tr>\n",
       "      <th>3</th>\n",
       "      <td>2018-01-01</td>\n",
       "      <td>Pennsylvania</td>\n",
       "      <td>Philadelphia</td>\n",
       "      <td>Philadelphia</td>\n",
       "      <td>North East Waste (NEW)</td>\n",
       "      <td>Carbon monoxide</td>\n",
       "      <td>Parts per million</td>\n",
       "      <td>0.300000</td>\n",
       "      <td>3</td>\n",
       "    </tr>\n",
       "    <tr>\n",
       "      <th>4</th>\n",
       "      <td>2018-01-01</td>\n",
       "      <td>Iowa</td>\n",
       "      <td>Polk</td>\n",
       "      <td>Des Moines</td>\n",
       "      <td>CARPENTER</td>\n",
       "      <td>Carbon monoxide</td>\n",
       "      <td>Parts per million</td>\n",
       "      <td>0.215789</td>\n",
       "      <td>3</td>\n",
       "    </tr>\n",
       "    <tr>\n",
       "      <th>5</th>\n",
       "      <td>2018-01-01</td>\n",
       "      <td>Hawaii</td>\n",
       "      <td>Honolulu</td>\n",
       "      <td>Not in a city</td>\n",
       "      <td>Kapolei</td>\n",
       "      <td>Carbon monoxide</td>\n",
       "      <td>Parts per million</td>\n",
       "      <td>0.994737</td>\n",
       "      <td>14</td>\n",
       "    </tr>\n",
       "    <tr>\n",
       "      <th>6</th>\n",
       "      <td>2018-01-01</td>\n",
       "      <td>Hawaii</td>\n",
       "      <td>Honolulu</td>\n",
       "      <td>Not in a city</td>\n",
       "      <td>Kapolei</td>\n",
       "      <td>Carbon monoxide</td>\n",
       "      <td>Parts per million</td>\n",
       "      <td>0.200000</td>\n",
       "      <td>2</td>\n",
       "    </tr>\n",
       "    <tr>\n",
       "      <th>7</th>\n",
       "      <td>2018-01-01</td>\n",
       "      <td>Pennsylvania</td>\n",
       "      <td>Erie</td>\n",
       "      <td>Erie</td>\n",
       "      <td>NaN</td>\n",
       "      <td>Carbon monoxide</td>\n",
       "      <td>Parts per million</td>\n",
       "      <td>0.200000</td>\n",
       "      <td>2</td>\n",
       "    </tr>\n",
       "    <tr>\n",
       "      <th>8</th>\n",
       "      <td>2018-01-01</td>\n",
       "      <td>Hawaii</td>\n",
       "      <td>Honolulu</td>\n",
       "      <td>Honolulu</td>\n",
       "      <td>Honolulu</td>\n",
       "      <td>Carbon monoxide</td>\n",
       "      <td>Parts per million</td>\n",
       "      <td>0.400000</td>\n",
       "      <td>5</td>\n",
       "    </tr>\n",
       "    <tr>\n",
       "      <th>9</th>\n",
       "      <td>2018-01-01</td>\n",
       "      <td>Colorado</td>\n",
       "      <td>Larimer</td>\n",
       "      <td>Fort Collins</td>\n",
       "      <td>Fort Collins - CSU - S. Mason</td>\n",
       "      <td>Carbon monoxide</td>\n",
       "      <td>Parts per million</td>\n",
       "      <td>0.300000</td>\n",
       "      <td>6</td>\n",
       "    </tr>\n",
       "  </tbody>\n",
       "</table>\n",
       "</div>"
      ],
      "text/plain": [
       "   date_local    state_name   county_name      city_name  \\\n",
       "0  2018-01-01       Arizona      Maricopa        Buckeye   \n",
       "1  2018-01-01          Ohio       Belmont      Shadyside   \n",
       "2  2018-01-01       Wyoming         Teton  Not in a city   \n",
       "3  2018-01-01  Pennsylvania  Philadelphia   Philadelphia   \n",
       "4  2018-01-01          Iowa          Polk     Des Moines   \n",
       "5  2018-01-01        Hawaii      Honolulu  Not in a city   \n",
       "6  2018-01-01        Hawaii      Honolulu  Not in a city   \n",
       "7  2018-01-01  Pennsylvania          Erie           Erie   \n",
       "8  2018-01-01        Hawaii      Honolulu       Honolulu   \n",
       "9  2018-01-01      Colorado       Larimer   Fort Collins   \n",
       "\n",
       "                                     local_site_name   parameter_name  \\\n",
       "0                                            BUCKEYE  Carbon monoxide   \n",
       "1                                          Shadyside  Carbon monoxide   \n",
       "2  Yellowstone National Park - Old Faithful Snow ...  Carbon monoxide   \n",
       "3                             North East Waste (NEW)  Carbon monoxide   \n",
       "4                                          CARPENTER  Carbon monoxide   \n",
       "5                                            Kapolei  Carbon monoxide   \n",
       "6                                            Kapolei  Carbon monoxide   \n",
       "7                                                NaN  Carbon monoxide   \n",
       "8                                           Honolulu  Carbon monoxide   \n",
       "9                      Fort Collins - CSU - S. Mason  Carbon monoxide   \n",
       "\n",
       "    units_of_measure  arithmetic_mean  aqi  \n",
       "0  Parts per million         0.473684    7  \n",
       "1  Parts per million         0.263158    5  \n",
       "2  Parts per million         0.111111    2  \n",
       "3  Parts per million         0.300000    3  \n",
       "4  Parts per million         0.215789    3  \n",
       "5  Parts per million         0.994737   14  \n",
       "6  Parts per million         0.200000    2  \n",
       "7  Parts per million         0.200000    2  \n",
       "8  Parts per million         0.400000    5  \n",
       "9  Parts per million         0.300000    6  "
      ]
     },
     "execution_count": 11,
     "metadata": {},
     "output_type": "execute_result"
    }
   ],
   "source": [
    "# First 10 rows of the data\n",
    "\n",
    "epa_data.head(10)"
   ]
  },
  {
   "cell_type": "markdown",
   "id": "16dd2b69",
   "metadata": {
    "id": "fb45ed17-5e22-4d48-9750-130a8586bbf9",
    "tags": []
   },
   "source": [
    "**Question:** What does the `aqi` column represent?\n",
    "\n",
    "- The `aqi` column represents the Air Quality Index."
   ]
  },
  {
   "cell_type": "markdown",
   "id": "dad40fe3",
   "metadata": {
    "id": "7dac147e-19e1-49e7-bd80-e122390c3a70",
    "tags": []
   },
   "source": [
    "We will be generating a table of some descriptive statistics about the data."
   ]
  },
  {
   "cell_type": "code",
   "execution_count": 14,
   "id": "72690fa1",
   "metadata": {
    "colab": {
     "base_uri": "https://localhost:8080/",
     "height": 300
    },
    "id": "13f1c1dd-5637-4726-8fa0-2fbd838e4afa",
    "outputId": "fbc5cae7-1ab2-41cf-cfa4-a7bda498015d"
   },
   "outputs": [
    {
     "data": {
      "text/html": [
       "<div>\n",
       "<style scoped>\n",
       "    .dataframe tbody tr th:only-of-type {\n",
       "        vertical-align: middle;\n",
       "    }\n",
       "\n",
       "    .dataframe tbody tr th {\n",
       "        vertical-align: top;\n",
       "    }\n",
       "\n",
       "    .dataframe thead th {\n",
       "        text-align: right;\n",
       "    }\n",
       "</style>\n",
       "<table border=\"1\" class=\"dataframe\">\n",
       "  <thead>\n",
       "    <tr style=\"text-align: right;\">\n",
       "      <th></th>\n",
       "      <th>date_local</th>\n",
       "      <th>state_name</th>\n",
       "      <th>county_name</th>\n",
       "      <th>city_name</th>\n",
       "      <th>local_site_name</th>\n",
       "      <th>parameter_name</th>\n",
       "      <th>units_of_measure</th>\n",
       "      <th>arithmetic_mean</th>\n",
       "      <th>aqi</th>\n",
       "    </tr>\n",
       "  </thead>\n",
       "  <tbody>\n",
       "    <tr>\n",
       "      <th>count</th>\n",
       "      <td>260</td>\n",
       "      <td>260</td>\n",
       "      <td>260</td>\n",
       "      <td>260</td>\n",
       "      <td>257</td>\n",
       "      <td>260</td>\n",
       "      <td>260</td>\n",
       "      <td>260.000000</td>\n",
       "      <td>260.000000</td>\n",
       "    </tr>\n",
       "    <tr>\n",
       "      <th>unique</th>\n",
       "      <td>1</td>\n",
       "      <td>52</td>\n",
       "      <td>149</td>\n",
       "      <td>190</td>\n",
       "      <td>253</td>\n",
       "      <td>1</td>\n",
       "      <td>1</td>\n",
       "      <td>NaN</td>\n",
       "      <td>NaN</td>\n",
       "    </tr>\n",
       "    <tr>\n",
       "      <th>top</th>\n",
       "      <td>2018-01-01</td>\n",
       "      <td>California</td>\n",
       "      <td>Los Angeles</td>\n",
       "      <td>Not in a city</td>\n",
       "      <td>Kapolei</td>\n",
       "      <td>Carbon monoxide</td>\n",
       "      <td>Parts per million</td>\n",
       "      <td>NaN</td>\n",
       "      <td>NaN</td>\n",
       "    </tr>\n",
       "    <tr>\n",
       "      <th>freq</th>\n",
       "      <td>260</td>\n",
       "      <td>66</td>\n",
       "      <td>14</td>\n",
       "      <td>21</td>\n",
       "      <td>2</td>\n",
       "      <td>260</td>\n",
       "      <td>260</td>\n",
       "      <td>NaN</td>\n",
       "      <td>NaN</td>\n",
       "    </tr>\n",
       "    <tr>\n",
       "      <th>mean</th>\n",
       "      <td>NaN</td>\n",
       "      <td>NaN</td>\n",
       "      <td>NaN</td>\n",
       "      <td>NaN</td>\n",
       "      <td>NaN</td>\n",
       "      <td>NaN</td>\n",
       "      <td>NaN</td>\n",
       "      <td>0.403169</td>\n",
       "      <td>6.757692</td>\n",
       "    </tr>\n",
       "    <tr>\n",
       "      <th>std</th>\n",
       "      <td>NaN</td>\n",
       "      <td>NaN</td>\n",
       "      <td>NaN</td>\n",
       "      <td>NaN</td>\n",
       "      <td>NaN</td>\n",
       "      <td>NaN</td>\n",
       "      <td>NaN</td>\n",
       "      <td>0.317902</td>\n",
       "      <td>7.061707</td>\n",
       "    </tr>\n",
       "    <tr>\n",
       "      <th>min</th>\n",
       "      <td>NaN</td>\n",
       "      <td>NaN</td>\n",
       "      <td>NaN</td>\n",
       "      <td>NaN</td>\n",
       "      <td>NaN</td>\n",
       "      <td>NaN</td>\n",
       "      <td>NaN</td>\n",
       "      <td>0.000000</td>\n",
       "      <td>0.000000</td>\n",
       "    </tr>\n",
       "    <tr>\n",
       "      <th>25%</th>\n",
       "      <td>NaN</td>\n",
       "      <td>NaN</td>\n",
       "      <td>NaN</td>\n",
       "      <td>NaN</td>\n",
       "      <td>NaN</td>\n",
       "      <td>NaN</td>\n",
       "      <td>NaN</td>\n",
       "      <td>0.200000</td>\n",
       "      <td>2.000000</td>\n",
       "    </tr>\n",
       "    <tr>\n",
       "      <th>50%</th>\n",
       "      <td>NaN</td>\n",
       "      <td>NaN</td>\n",
       "      <td>NaN</td>\n",
       "      <td>NaN</td>\n",
       "      <td>NaN</td>\n",
       "      <td>NaN</td>\n",
       "      <td>NaN</td>\n",
       "      <td>0.276315</td>\n",
       "      <td>5.000000</td>\n",
       "    </tr>\n",
       "    <tr>\n",
       "      <th>75%</th>\n",
       "      <td>NaN</td>\n",
       "      <td>NaN</td>\n",
       "      <td>NaN</td>\n",
       "      <td>NaN</td>\n",
       "      <td>NaN</td>\n",
       "      <td>NaN</td>\n",
       "      <td>NaN</td>\n",
       "      <td>0.516009</td>\n",
       "      <td>9.000000</td>\n",
       "    </tr>\n",
       "    <tr>\n",
       "      <th>max</th>\n",
       "      <td>NaN</td>\n",
       "      <td>NaN</td>\n",
       "      <td>NaN</td>\n",
       "      <td>NaN</td>\n",
       "      <td>NaN</td>\n",
       "      <td>NaN</td>\n",
       "      <td>NaN</td>\n",
       "      <td>1.921053</td>\n",
       "      <td>50.000000</td>\n",
       "    </tr>\n",
       "  </tbody>\n",
       "</table>\n",
       "</div>"
      ],
      "text/plain": [
       "        date_local  state_name  county_name      city_name local_site_name  \\\n",
       "count          260         260          260            260             257   \n",
       "unique           1          52          149            190             253   \n",
       "top     2018-01-01  California  Los Angeles  Not in a city         Kapolei   \n",
       "freq           260          66           14             21               2   \n",
       "mean           NaN         NaN          NaN            NaN             NaN   \n",
       "std            NaN         NaN          NaN            NaN             NaN   \n",
       "min            NaN         NaN          NaN            NaN             NaN   \n",
       "25%            NaN         NaN          NaN            NaN             NaN   \n",
       "50%            NaN         NaN          NaN            NaN             NaN   \n",
       "75%            NaN         NaN          NaN            NaN             NaN   \n",
       "max            NaN         NaN          NaN            NaN             NaN   \n",
       "\n",
       "         parameter_name   units_of_measure  arithmetic_mean         aqi  \n",
       "count               260                260       260.000000  260.000000  \n",
       "unique                1                  1              NaN         NaN  \n",
       "top     Carbon monoxide  Parts per million              NaN         NaN  \n",
       "freq                260                260              NaN         NaN  \n",
       "mean                NaN                NaN         0.403169    6.757692  \n",
       "std                 NaN                NaN         0.317902    7.061707  \n",
       "min                 NaN                NaN         0.000000    0.000000  \n",
       "25%                 NaN                NaN         0.200000    2.000000  \n",
       "50%                 NaN                NaN         0.276315    5.000000  \n",
       "75%                 NaN                NaN         0.516009    9.000000  \n",
       "max                 NaN                NaN         1.921053   50.000000  "
      ]
     },
     "execution_count": 14,
     "metadata": {},
     "output_type": "execute_result"
    }
   ],
   "source": [
    "epa_data.describe(include='all')"
   ]
  },
  {
   "cell_type": "markdown",
   "id": "ca1e6a36",
   "metadata": {
    "id": "584fa1b2"
   },
   "source": [
    "**Question:** Based on the preceding table of descriptive statistics, what is the mean value of the `aqi` column? \n",
    "\n",
    "- The value is `6.757692`. This value will be compared to the mean value after sampling with replacement later in the notebook."
   ]
  },
  {
   "cell_type": "markdown",
   "id": "05801452",
   "metadata": {
    "id": "a70475eb-d3a6-42e4-8b71-a49b5a1aa0db"
   },
   "source": [
    "**Question:** Based on the preceding table of descriptive statistics, what do you notice about the count value for the `aqi` column?\n",
    "\n",
    "- The count value for the `aqi` column is 260. This means there are 260 AQI measurements represented in this dataset."
   ]
  },
  {
   "cell_type": "markdown",
   "id": "8c19e7a7",
   "metadata": {
    "id": "5464fa18-f969-4e1e-8539-9b2d9a11766d",
    "tags": []
   },
   "source": [
    "Now, we will use the `mean()` function on the `aqi` column and assign the value to a variable `population_mean`. "
   ]
  },
  {
   "cell_type": "code",
   "execution_count": 17,
   "id": "7dadbd24",
   "metadata": {
    "id": "678346a1-bc1a-40be-850a-c03488970604"
   },
   "outputs": [
    {
     "data": {
      "text/plain": [
       "6.757692307692308"
      ]
     },
     "execution_count": 17,
     "metadata": {},
     "output_type": "execute_result"
    }
   ],
   "source": [
    "population_mean = epa_data['aqi'].mean()\n",
    "population_mean"
   ]
  },
  {
   "cell_type": "markdown",
   "id": "45509b86",
   "metadata": {
    "id": "990595d9"
   },
   "source": [
    "## Step 3: Statistical tests"
   ]
  },
  {
   "cell_type": "markdown",
   "id": "e98802d8",
   "metadata": {
    "id": "tejiqD0O7e3p"
   },
   "source": [
    "### Sampling with replacement\n",
    "\n",
    "First, we name a new variable `sampled_data`. Then, we use the `sample()` dataframe method to draw 50 samples from `epa_data` and set `replace` equal to `'True'` to specify sampling with replacement. For `random_state`, we choose an arbitrary number for random seed, ie `42`."
   ]
  },
  {
   "cell_type": "code",
   "execution_count": 20,
   "id": "fbbd706d",
   "metadata": {
    "id": "e4bceb0a"
   },
   "outputs": [],
   "source": [
    "sampled_data = epa_data.sample(n=50, replace=True, random_state=42)"
   ]
  },
  {
   "cell_type": "code",
   "execution_count": 22,
   "id": "4a824070",
   "metadata": {
    "id": "63d5d4d5",
    "outputId": "2567dee4-5cb9-42ae-da87-007b600fc709"
   },
   "outputs": [
    {
     "data": {
      "text/html": [
       "<div>\n",
       "<style scoped>\n",
       "    .dataframe tbody tr th:only-of-type {\n",
       "        vertical-align: middle;\n",
       "    }\n",
       "\n",
       "    .dataframe tbody tr th {\n",
       "        vertical-align: top;\n",
       "    }\n",
       "\n",
       "    .dataframe thead th {\n",
       "        text-align: right;\n",
       "    }\n",
       "</style>\n",
       "<table border=\"1\" class=\"dataframe\">\n",
       "  <thead>\n",
       "    <tr style=\"text-align: right;\">\n",
       "      <th></th>\n",
       "      <th>date_local</th>\n",
       "      <th>state_name</th>\n",
       "      <th>county_name</th>\n",
       "      <th>city_name</th>\n",
       "      <th>local_site_name</th>\n",
       "      <th>parameter_name</th>\n",
       "      <th>units_of_measure</th>\n",
       "      <th>arithmetic_mean</th>\n",
       "      <th>aqi</th>\n",
       "    </tr>\n",
       "  </thead>\n",
       "  <tbody>\n",
       "    <tr>\n",
       "      <th>102</th>\n",
       "      <td>2018-01-01</td>\n",
       "      <td>Texas</td>\n",
       "      <td>Harris</td>\n",
       "      <td>Houston</td>\n",
       "      <td>Clinton</td>\n",
       "      <td>Carbon monoxide</td>\n",
       "      <td>Parts per million</td>\n",
       "      <td>0.157895</td>\n",
       "      <td>2</td>\n",
       "    </tr>\n",
       "    <tr>\n",
       "      <th>106</th>\n",
       "      <td>2018-01-01</td>\n",
       "      <td>California</td>\n",
       "      <td>Imperial</td>\n",
       "      <td>Calexico</td>\n",
       "      <td>Calexico-Ethel Street</td>\n",
       "      <td>Carbon monoxide</td>\n",
       "      <td>Parts per million</td>\n",
       "      <td>1.183333</td>\n",
       "      <td>26</td>\n",
       "    </tr>\n",
       "    <tr>\n",
       "      <th>71</th>\n",
       "      <td>2018-01-01</td>\n",
       "      <td>Alabama</td>\n",
       "      <td>Jefferson</td>\n",
       "      <td>Birmingham</td>\n",
       "      <td>Arkadelphia/Near Road</td>\n",
       "      <td>Carbon monoxide</td>\n",
       "      <td>Parts per million</td>\n",
       "      <td>0.200000</td>\n",
       "      <td>2</td>\n",
       "    </tr>\n",
       "    <tr>\n",
       "      <th>188</th>\n",
       "      <td>2018-01-01</td>\n",
       "      <td>Arizona</td>\n",
       "      <td>Maricopa</td>\n",
       "      <td>Tempe</td>\n",
       "      <td>Diablo</td>\n",
       "      <td>Carbon monoxide</td>\n",
       "      <td>Parts per million</td>\n",
       "      <td>0.542105</td>\n",
       "      <td>10</td>\n",
       "    </tr>\n",
       "    <tr>\n",
       "      <th>20</th>\n",
       "      <td>2018-01-01</td>\n",
       "      <td>Virginia</td>\n",
       "      <td>Roanoke</td>\n",
       "      <td>Vinton</td>\n",
       "      <td>East Vinton Elementary School</td>\n",
       "      <td>Carbon monoxide</td>\n",
       "      <td>Parts per million</td>\n",
       "      <td>0.100000</td>\n",
       "      <td>1</td>\n",
       "    </tr>\n",
       "    <tr>\n",
       "      <th>102</th>\n",
       "      <td>2018-01-01</td>\n",
       "      <td>Texas</td>\n",
       "      <td>Harris</td>\n",
       "      <td>Houston</td>\n",
       "      <td>Clinton</td>\n",
       "      <td>Carbon monoxide</td>\n",
       "      <td>Parts per million</td>\n",
       "      <td>0.157895</td>\n",
       "      <td>2</td>\n",
       "    </tr>\n",
       "    <tr>\n",
       "      <th>121</th>\n",
       "      <td>2018-01-01</td>\n",
       "      <td>North Carolina</td>\n",
       "      <td>Mecklenburg</td>\n",
       "      <td>Charlotte</td>\n",
       "      <td>Garinger High School</td>\n",
       "      <td>Carbon monoxide</td>\n",
       "      <td>Parts per million</td>\n",
       "      <td>0.200000</td>\n",
       "      <td>2</td>\n",
       "    </tr>\n",
       "    <tr>\n",
       "      <th>214</th>\n",
       "      <td>2018-01-01</td>\n",
       "      <td>Florida</td>\n",
       "      <td>Broward</td>\n",
       "      <td>Davie</td>\n",
       "      <td>Daniela Banu NCORE</td>\n",
       "      <td>Carbon monoxide</td>\n",
       "      <td>Parts per million</td>\n",
       "      <td>0.273684</td>\n",
       "      <td>5</td>\n",
       "    </tr>\n",
       "    <tr>\n",
       "      <th>87</th>\n",
       "      <td>2018-01-01</td>\n",
       "      <td>California</td>\n",
       "      <td>Humboldt</td>\n",
       "      <td>Eureka</td>\n",
       "      <td>Jacobs</td>\n",
       "      <td>Carbon monoxide</td>\n",
       "      <td>Parts per million</td>\n",
       "      <td>0.393750</td>\n",
       "      <td>5</td>\n",
       "    </tr>\n",
       "    <tr>\n",
       "      <th>99</th>\n",
       "      <td>2018-01-01</td>\n",
       "      <td>California</td>\n",
       "      <td>Santa Barbara</td>\n",
       "      <td>Goleta</td>\n",
       "      <td>Goleta</td>\n",
       "      <td>Carbon monoxide</td>\n",
       "      <td>Parts per million</td>\n",
       "      <td>0.222222</td>\n",
       "      <td>3</td>\n",
       "    </tr>\n",
       "  </tbody>\n",
       "</table>\n",
       "</div>"
      ],
      "text/plain": [
       "     date_local      state_name    county_name   city_name  \\\n",
       "102  2018-01-01           Texas         Harris     Houston   \n",
       "106  2018-01-01      California       Imperial    Calexico   \n",
       "71   2018-01-01         Alabama      Jefferson  Birmingham   \n",
       "188  2018-01-01         Arizona       Maricopa       Tempe   \n",
       "20   2018-01-01        Virginia        Roanoke      Vinton   \n",
       "102  2018-01-01           Texas         Harris     Houston   \n",
       "121  2018-01-01  North Carolina    Mecklenburg   Charlotte   \n",
       "214  2018-01-01         Florida        Broward       Davie   \n",
       "87   2018-01-01      California       Humboldt      Eureka   \n",
       "99   2018-01-01      California  Santa Barbara      Goleta   \n",
       "\n",
       "                   local_site_name   parameter_name   units_of_measure  \\\n",
       "102                        Clinton  Carbon monoxide  Parts per million   \n",
       "106          Calexico-Ethel Street  Carbon monoxide  Parts per million   \n",
       "71           Arkadelphia/Near Road  Carbon monoxide  Parts per million   \n",
       "188                         Diablo  Carbon monoxide  Parts per million   \n",
       "20   East Vinton Elementary School  Carbon monoxide  Parts per million   \n",
       "102                        Clinton  Carbon monoxide  Parts per million   \n",
       "121           Garinger High School  Carbon monoxide  Parts per million   \n",
       "214             Daniela Banu NCORE  Carbon monoxide  Parts per million   \n",
       "87                          Jacobs  Carbon monoxide  Parts per million   \n",
       "99                          Goleta  Carbon monoxide  Parts per million   \n",
       "\n",
       "     arithmetic_mean  aqi  \n",
       "102         0.157895    2  \n",
       "106         1.183333   26  \n",
       "71          0.200000    2  \n",
       "188         0.542105   10  \n",
       "20          0.100000    1  \n",
       "102         0.157895    2  \n",
       "121         0.200000    2  \n",
       "214         0.273684    5  \n",
       "87          0.393750    5  \n",
       "99          0.222222    3  "
      ]
     },
     "execution_count": 22,
     "metadata": {},
     "output_type": "execute_result"
    }
   ],
   "source": [
    "sampled_data.head(10)"
   ]
  },
  {
   "cell_type": "markdown",
   "id": "17323d45",
   "metadata": {
    "id": "ea32e0f9"
   },
   "source": [
    "**Question:** In the DataFrame output, why is the row index 102 repeated twice? \n",
    "\n",
    "- Sampling with replacement is random, allowing sampling units to occur more than once. Row index 102 just happened to be sampled more than once. "
   ]
  },
  {
   "cell_type": "markdown",
   "id": "fc07dfe7",
   "metadata": {
    "id": "39c3bf7d"
   },
   "source": [
    "**Question:** What does `random_state` do?\n",
    "\n",
    "- The parameter allows for the reproduction of the same exact sample (i.e., the same set of numbers). This means that the same rows in the dataset will be sampled with replacement each time the command is run. "
   ]
  },
  {
   "cell_type": "markdown",
   "id": "d47f01f7",
   "metadata": {
    "id": "eed77707"
   },
   "source": [
    "### Computing the mean value from the `aqi` column\n",
    "\n",
    "Computing the mean value from the `aqi` column in `sampled_data` and assigning the value to the variable `sample_mean`."
   ]
  },
  {
   "cell_type": "code",
   "execution_count": 25,
   "id": "1c194ae3",
   "metadata": {
    "id": "eccca24f"
   },
   "outputs": [
    {
     "data": {
      "text/plain": [
       "5.54"
      ]
     },
     "execution_count": 25,
     "metadata": {},
     "output_type": "execute_result"
    }
   ],
   "source": [
    "sample_mean = sampled_data['aqi'].mean()\n",
    "sample_mean"
   ]
  },
  {
   "cell_type": "markdown",
   "id": "9b4fe10d",
   "metadata": {
    "id": "dffa05d1"
   },
   "source": [
    " **Question:** Why is `sample_mean` different from `population_mean`?\n",
    "\n",
    "- Due to sampling variability, the sample mean (`sample_mean`) is usually not the same as the population mean (`population_mean`). In this case, the sample mean is a point estimate of the population mean based on a random sample of 50 AQI values rather than the 260 AQI values from the original population in `epa_data`.  "
   ]
  },
  {
   "cell_type": "markdown",
   "id": "ad48dc4c",
   "metadata": {
    "id": "83526f10"
   },
   "source": [
    "### Applying the central limit theorem\n",
    "Imagine taking 10,000 random samples of 50 AQI values and computing the mean for each sample. According to the **central limit theorem**, the mean of a sampling distribution should be roughly equal to the population mean.\n"
   ]
  },
  {
   "cell_type": "code",
   "execution_count": 30,
   "id": "f4d3ef27",
   "metadata": {
    "id": "192b9d77"
   },
   "outputs": [],
   "source": [
    "estimate_list = []\n",
    "for i in range(10000):\n",
    "    estimate_list.append(epa_data['aqi'].sample(n=50,replace=True).mean())"
   ]
  },
  {
   "cell_type": "markdown",
   "id": "f38e63fb",
   "metadata": {
    "id": "bbcc624a"
   },
   "source": [
    "Next, creating a new DataFrame from the list of 10,000 estimates and naming the new variable `estimate_df`."
   ]
  },
  {
   "cell_type": "code",
   "execution_count": 33,
   "id": "3175ac79",
   "metadata": {
    "id": "59878c6b",
    "outputId": "69265638-270d-4408-a58e-ecf0ee3df88b"
   },
   "outputs": [
    {
     "data": {
      "text/html": [
       "<div>\n",
       "<style scoped>\n",
       "    .dataframe tbody tr th:only-of-type {\n",
       "        vertical-align: middle;\n",
       "    }\n",
       "\n",
       "    .dataframe tbody tr th {\n",
       "        vertical-align: top;\n",
       "    }\n",
       "\n",
       "    .dataframe thead th {\n",
       "        text-align: right;\n",
       "    }\n",
       "</style>\n",
       "<table border=\"1\" class=\"dataframe\">\n",
       "  <thead>\n",
       "    <tr style=\"text-align: right;\">\n",
       "      <th></th>\n",
       "      <th>estimate</th>\n",
       "    </tr>\n",
       "  </thead>\n",
       "  <tbody>\n",
       "    <tr>\n",
       "      <th>0</th>\n",
       "      <td>5.64</td>\n",
       "    </tr>\n",
       "    <tr>\n",
       "      <th>1</th>\n",
       "      <td>6.06</td>\n",
       "    </tr>\n",
       "    <tr>\n",
       "      <th>2</th>\n",
       "      <td>6.34</td>\n",
       "    </tr>\n",
       "    <tr>\n",
       "      <th>3</th>\n",
       "      <td>6.76</td>\n",
       "    </tr>\n",
       "    <tr>\n",
       "      <th>4</th>\n",
       "      <td>6.10</td>\n",
       "    </tr>\n",
       "    <tr>\n",
       "      <th>...</th>\n",
       "      <td>...</td>\n",
       "    </tr>\n",
       "    <tr>\n",
       "      <th>9995</th>\n",
       "      <td>7.22</td>\n",
       "    </tr>\n",
       "    <tr>\n",
       "      <th>9996</th>\n",
       "      <td>7.68</td>\n",
       "    </tr>\n",
       "    <tr>\n",
       "      <th>9997</th>\n",
       "      <td>6.86</td>\n",
       "    </tr>\n",
       "    <tr>\n",
       "      <th>9998</th>\n",
       "      <td>7.10</td>\n",
       "    </tr>\n",
       "    <tr>\n",
       "      <th>9999</th>\n",
       "      <td>7.56</td>\n",
       "    </tr>\n",
       "  </tbody>\n",
       "</table>\n",
       "<p>10000 rows × 1 columns</p>\n",
       "</div>"
      ],
      "text/plain": [
       "      estimate\n",
       "0         5.64\n",
       "1         6.06\n",
       "2         6.34\n",
       "3         6.76\n",
       "4         6.10\n",
       "...        ...\n",
       "9995      7.22\n",
       "9996      7.68\n",
       "9997      6.86\n",
       "9998      7.10\n",
       "9999      7.56\n",
       "\n",
       "[10000 rows x 1 columns]"
      ]
     },
     "execution_count": 33,
     "metadata": {},
     "output_type": "execute_result"
    }
   ],
   "source": [
    "estimate_df = pd.DataFrame(data={'estimate': estimate_list})\n",
    "estimate_df"
   ]
  },
  {
   "cell_type": "markdown",
   "id": "43429ab0",
   "metadata": {
    "id": "1a2d1b98"
   },
   "source": [
    "### Computing the mean\n",
    "Next, we are computing the `mean()` of the sampling distribution of 10,000 random samples and storing the result in a new variable `mean_sample_means`."
   ]
  },
  {
   "cell_type": "code",
   "execution_count": 45,
   "id": "e3b0943b",
   "metadata": {
    "id": "c21cce9c",
    "outputId": "64fdea79-10cd-4465-8d51-6c3759aa1c34"
   },
   "outputs": [
    {
     "data": {
      "text/plain": [
       "6.7576220000000005"
      ]
     },
     "execution_count": 45,
     "metadata": {},
     "output_type": "execute_result"
    }
   ],
   "source": [
    "mean_sample_means = estimate_df['estimate'].mean()\n",
    "mean_sample_means"
   ]
  },
  {
   "cell_type": "markdown",
   "id": "f277e55b",
   "metadata": {
    "id": "8a5939d9"
   },
   "source": [
    "**Question:** What is the mean for the sampling distribution of 10,000 random samples?\n",
    "\n",
    "The mean is 6.7576 but this number will vary as `random_state` was not set to a value. "
   ]
  },
  {
   "cell_type": "markdown",
   "id": "56a246a2",
   "metadata": {
    "id": "4c8ab4ca"
   },
   "source": [
    "**Question:** How are the central limit theorem and random sampling (with replacement) related?\n",
    "\n",
    "Random sampling with replacement is related to the central limit theorem because it means we are drawing observations independently from a population. The central limit theorem states that if a sample size is large enough and the observations are drawn independently—or with replacement—the sampling distribution of the sample mean is approximately the normal distribution. Furthermore, the mean parameter is the population mean and the standard deviation parameter is the standard error. "
   ]
  },
  {
   "cell_type": "markdown",
   "id": "879dd562",
   "metadata": {
    "id": "ff41cd55"
   },
   "source": [
    "### Output the distribution using a histogram"
   ]
  },
  {
   "cell_type": "code",
   "execution_count": 48,
   "id": "e5168fd1",
   "metadata": {
    "id": "e0e6aedd",
    "outputId": "173ee890-6841-41ca-bb48-67c64516b7b4"
   },
   "outputs": [
    {
     "data": {
      "text/plain": [
       "<Axes: >"
      ]
     },
     "execution_count": 48,
     "metadata": {},
     "output_type": "execute_result"
    },
    {
     "data": {
      "image/png": "[encoded data removed]",
      "text/plain": [
       "<Figure size 640x480 with 1 Axes>"
      ]
     },
     "metadata": {},
     "output_type": "display_data"
    }
   ],
   "source": [
    "estimate_df['estimate'].hist()"
   ]
  },
  {
   "cell_type": "code",
   "execution_count": 50,
   "id": "ef6b132a",
   "metadata": {
    "id": "74e6b4e9",
    "outputId": "99168c8b-a14e-4ae7-910a-37196fbd0e0a"
   },
   "outputs": [
    {
     "data": {
      "text/plain": [
       "0.7413225908290327"
      ]
     },
     "execution_count": 50,
     "metadata": {},
     "output_type": "execute_result"
    }
   ],
   "source": [
    "# Caculating the standard error\n",
    "\n",
    "standard_error = sampled_data['aqi'].std() / np.sqrt(len(sampled_data))\n",
    "standard_error"
   ]
  },
  {
   "cell_type": "markdown",
   "id": "699745ac",
   "metadata": {
    "id": "2c748417"
   },
   "source": [
    "## Step 4: Results and evaluation"
   ]
  },
  {
   "cell_type": "markdown",
   "id": "e284622a",
   "metadata": {
    "id": "06fae653"
   },
   "source": [
    "###  Visualize the relationship between the sampling and normal distributions"
   ]
  },
  {
   "cell_type": "code",
   "execution_count": 52,
   "id": "4b551c92",
   "metadata": {
    "id": "55b5b482",
    "outputId": "a4465f5d-ad5c-45a1-9317-159355cc5032"
   },
   "outputs": [
    {
     "data": {
      "image/png": "[encoded data removed]",
      "text/plain": [
       "<Figure size 800x500 with 1 Axes>"
      ]
     },
     "metadata": {},
     "output_type": "display_data"
    }
   ],
   "source": [
    " # Generating a grid of 100 values from xmin to xmax.\n",
    "\n",
    "plt.figure(figsize=(8,5))\n",
    "plt.hist(estimate_df['estimate'], bins=25, density=True, alpha=0.4, label = \"histogram of sample means of 10000 random samples\")\n",
    "xmin, xmax = plt.xlim()\n",
    "x = np.linspace(xmin, xmax, 100) # generate a grid of 100 values from xmin to xmax.\n",
    "p = stats.norm.pdf(x, population_mean, standard_error)\n",
    "plt.plot(x, p, 'k', linewidth=2, label = 'normal curve from central limit theorem')\n",
    "plt.axvline(x=population_mean, color='m', linestyle = 'solid', label = 'population mean')\n",
    "plt.axvline(x=sample_mean, color='r', linestyle = '--', label = 'sample mean of the first random sample')\n",
    "plt.axvline(x=mean_sample_means, color='b', linestyle = ':', label = 'mean of sample means of 10000 random samples')\n",
    "plt.title(\"Sampling distribution of sample mean\")\n",
    "plt.xlabel('sample mean')\n",
    "plt.ylabel('density')\n",
    "plt.legend(bbox_to_anchor=(1.04,1));"
   ]
  },
  {
   "cell_type": "markdown",
   "id": "e3c52fa4",
   "metadata": {
    "id": "9abab6d5"
   },
   "source": [
    "**Question:** What insights did you gain from the preceding sampling distribution?\n",
    "\n",
    "1.  The histogram of the sampling distribution is well-approximated by the normal distribution described by the central limit theorem.\n",
    "2.  The estimate based on one particular sample (red dashed line) is off-center. This is expected due to sampling variability. The red dashed line would be in a different location if `epa_data.sample(n=50, replace=True, random_state=42)` had a different value for `random_state`.\n",
    "3.  The population mean (green solid line) and the mean of the sample means (blue dotted line) overlap, meaning that they are essentially equal to each other."
   ]
  },
  {
   "cell_type": "markdown",
   "id": "fcdd6320",
   "metadata": {
    "id": "c77e7f0f-d2b9-4464-8a7c-9575d1e1ef9f"
   },
   "source": [
    "# Considerations\n",
    "\n",
    "**What are some key takeaways that we learned ?**\n",
    "- Sampling with replacement on a dataset leads to duplicate rows.\n",
    "- Sample means are different from population means due to sampling variability.\n",
    "- The central limit theorem helps describe the sampling distribution of the sample mean for many different types of datasets.\n",
    "\n",
    "\n",
    "**What findings would can we share with others?**\n",
    "- The mean AQI in a sample of 50 observations was below 100 in a statistically significant sense (at least 2–3 standard errors away). For reference, AQI values at or below 100 are generally thought of as satisfactory.\n",
    "- This notebook didn't examine values outside the \"satisfactory\" range so analysis should be done to investigate unhealthy AQI values.\n",
    "\n",
    "**What would we convey to external stakeholders?**\n",
    "- Carbon monoxide levels are satisfactory in general.  \n",
    "- Funding should be allocated to further investigate regions with unhealthy levels of carbon monoxide and improve the conditions in those regions.\n",
    "\n"
   ]
  }
 ],
 "metadata": {
  "colab": {
   "collapsed_sections": [],
   "provenance": []
  },
  "kernelspec": {
   "display_name": "Python 3 (ipykernel)",
   "language": "python",
   "name": "python3"
  },
  "language_info": {
   "codemirror_mode": {
    "name": "ipython",
    "version": 3
   },
   "file_extension": ".py",
   "mimetype": "text/x-python",
   "name": "python",
   "nbconvert_exporter": "python",
   "pygments_lexer": "ipython3",
   "version": "3.12.4"
  },
  "toc-autonumbering": false,
  "toc-showtags": false
 },
 "nbformat": 4,
 "nbformat_minor": 5
}
